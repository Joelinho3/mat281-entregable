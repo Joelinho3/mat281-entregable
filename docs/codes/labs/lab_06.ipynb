{
  "cells": [
    {
      "cell_type": "markdown",
      "metadata": {
        "id": "axesb4JQOheO"
      },
      "source": [
        "<a href=\"https://colab.research.google.com/github/fralfaro/MAT281/blob/main/docs/labs/lab_06.ipynb\" target=\"_parent\"><img src=\"https://colab.research.google.com/assets/colab-badge.svg\" alt=\"Open In Colab\"/></a>\n",
        "\n",
        "# MAT281 - Laboratorio N°06"
      ]
    },
    {
      "cell_type": "markdown",
      "metadata": {
        "id": "cwI2dNZsOheT"
      },
      "source": [
        "\n",
        "**Objetivo**: Aplicar técnicas básicas de **Machine Learning**, desde la preparación de datos hasta el entrenamiento y evaluación de modelos.\n",
        "\n"
      ]
    },
    {
      "cell_type": "markdown",
      "metadata": {
        "id": "kqzvq92aOheU"
      },
      "source": [
        "\n",
        "<p align=\"center\">\n",
        "  <img src=\"https://upload.wikimedia.org/wikipedia/commons/thumb/e/ec/Anscombe%27s_quartet_3.svg/1200px-Anscombe%27s_quartet_3.svg.png\" width=\"500\"/>\n",
        "</p>\n",
        "\n",
        "El **cuarteto de Anscombe** es un ejemplo clásico en estadística que ilustra cómo diferentes conjuntos de datos pueden compartir las mismas propiedades estadísticas, como media, varianza y correlación, pero presentan comportamientos muy distintos cuando se visualizan gráficamente. Cada uno de los cuatro conjuntos consiste en once puntos (x, y) y fue creado por el estadístico F. J. Anscombe en 1973. Esta herramienta resalta la importancia de la visualización de datos para evitar interpretaciones erróneas basadas únicamente en análisis numéricos.\n",
        "\n",
        "**Descripción del conjunto**\n",
        "\n",
        "1. **Propiedades estadísticas comunes:** Todos los conjuntos tienen el mismo valor promedio para las variables \\(x\\) e \\(y\\), la misma varianza para \\(x\\) e \\(y\\), y una correlación lineal idéntica.\n",
        "2. **Diferencias gráficas:** A pesar de sus similitudes estadísticas, los cuatro conjuntos presentan gráficos muy distintos:\n",
        "   - El primer conjunto muestra una relación lineal simple.\n",
        "   - El segundo conjunto tiene una relación no lineal, con una curva clara.\n",
        "   - El tercer conjunto tiene una relación lineal clara, pero con un punto atípico que influye significativamente.\n",
        "   - El cuarto conjunto tiene la mayoría de los puntos alineados verticalmente, con un punto atípico que afecta la correlación.\n",
        "\n",
        "Este cuarteto enfatiza que las estadísticas descriptivas por sí solas pueden no capturar la esencia completa de los datos, subrayando la necesidad de utilizar visualizaciones en cualquier análisis exploratorio de datos."
      ]
    },
    {
      "cell_type": "code",
      "execution_count": null,
      "metadata": {
        "id": "ChONkYj5OheV",
        "outputId": "0c6a2289-9df9-4532-a749-28986e873be1"
      },
      "outputs": [
        {
          "data": {
            "text/html": [
              "<div>\n",
              "<style scoped>\n",
              "    .dataframe tbody tr th:only-of-type {\n",
              "        vertical-align: middle;\n",
              "    }\n",
              "\n",
              "    .dataframe tbody tr th {\n",
              "        vertical-align: top;\n",
              "    }\n",
              "\n",
              "    .dataframe thead th {\n",
              "        text-align: right;\n",
              "    }\n",
              "</style>\n",
              "<table border=\"1\" class=\"dataframe\">\n",
              "  <thead>\n",
              "    <tr style=\"text-align: right;\">\n",
              "      <th></th>\n",
              "      <th>dataset</th>\n",
              "      <th>x</th>\n",
              "      <th>y</th>\n",
              "    </tr>\n",
              "  </thead>\n",
              "  <tbody>\n",
              "    <tr>\n",
              "      <th>0</th>\n",
              "      <td>I</td>\n",
              "      <td>10.0</td>\n",
              "      <td>8.04</td>\n",
              "    </tr>\n",
              "    <tr>\n",
              "      <th>1</th>\n",
              "      <td>I</td>\n",
              "      <td>8.0</td>\n",
              "      <td>6.95</td>\n",
              "    </tr>\n",
              "    <tr>\n",
              "      <th>2</th>\n",
              "      <td>I</td>\n",
              "      <td>13.0</td>\n",
              "      <td>7.58</td>\n",
              "    </tr>\n",
              "    <tr>\n",
              "      <th>3</th>\n",
              "      <td>I</td>\n",
              "      <td>9.0</td>\n",
              "      <td>8.81</td>\n",
              "    </tr>\n",
              "    <tr>\n",
              "      <th>4</th>\n",
              "      <td>I</td>\n",
              "      <td>11.0</td>\n",
              "      <td>8.33</td>\n",
              "    </tr>\n",
              "  </tbody>\n",
              "</table>\n",
              "</div>"
            ],
            "text/plain": [
              "  dataset     x     y\n",
              "0       I  10.0  8.04\n",
              "1       I   8.0  6.95\n",
              "2       I  13.0  7.58\n",
              "3       I   9.0  8.81\n",
              "4       I  11.0  8.33"
            ]
          },
          "execution_count": 1,
          "metadata": {},
          "output_type": "execute_result"
        }
      ],
      "source": [
        "# Importar las bibliotecas necesarias\n",
        "import numpy as np\n",
        "import pandas as pd\n",
        "import matplotlib.pyplot as plt\n",
        "import seaborn as sns\n",
        "from sklearn.linear_model import LinearRegression\n",
        "from sklearn.metrics import mean_squared_error, r2_score\n",
        "\n",
        "# Configuración de los gráficos\n",
        "%matplotlib inline\n",
        "sns.set_theme(style=\"whitegrid\")  # Establece un tema general para los gráficos\n",
        "sns.set_palette(\"deep\", desat=0.6)\n",
        "plt.rcParams['figure.figsize'] = (12, 8)  # Ajuste del tamaño de las figuras\n",
        "\n",
        "# Cargar los datos del cuarteto de Anscombe\n",
        "data = sns.load_dataset(\"anscombe\")\n",
        "\n",
        "# Mostrar las primeras filas del conjunto de datos\n",
        "data.head()"
      ]
    },
    {
      "cell_type": "markdown",
      "metadata": {
        "id": "tX8Rp04dOheY"
      },
      "source": [
        "Con base en la información presentada y el análisis realizado, les invitamos a reflexionar y responder las siguientes preguntas. Estas preguntas están diseñadas para profundizar en su comprensión del cuarteto de Anscombe y fomentar un análisis crítico de los datos:"
      ]
    },
    {
      "cell_type": "markdown",
      "metadata": {
        "id": "ySghUQGXOheZ"
      },
      "source": [
        "\n",
        "\n",
        "1. Cree un gráfico de dispersión (scatter plot) para cada uno de los cuatro grupos del cuarteto de Anscombe. A partir de la visualización, ¿puede identificar diferencias significativas entre los grupos? ¿Qué características particulares observa en cada uno que sugieren comportamientos distintos?\n",
        "\n"
      ]
    },
    {
      "cell_type": "code",
      "execution_count": null,
      "metadata": {
        "id": "AVrSbi2POhea"
      },
      "outputs": [],
      "source": [
        "# FIXME\n",
        "# 1) Gráficos de dispersión del cuarteto de Anscombe (uno por grupo)\n",
        "import seaborn as sns\n",
        "import matplotlib.pyplot as plt\n",
        "\n",
        "sns.set(style=\"whitegrid\")\n",
        "g = sns.lmplot(\n",
        "    data=data, x=\"x\", y=\"y\",\n",
        "    col=\"dataset\", col_wrap=2,\n",
        "    ci=None, height=4,\n",
        "    scatter_kws={\"s\": 50}, line_kws={\"lw\": 2}\n",
        ")\n",
        "g.set_titles(\"Dataset {col_name}\")\n",
        "g.fig.subplots_adjust(top=0.9)\n",
        "g.fig.suptitle(\"Cuarteto de Anscombe: dispersión y ajuste lineal\")\n",
        "\n",
        "# Respuesta:\n",
        "# I: relación lineal positiva clara; II: patrón curvo (no lineal);\n",
        "# III: casi lineal con un outlier en X que distorsiona la recta;\n",
        "# IV: puntos casi verticales en una misma x + un outlier que induce correlación aparente.\n",
        "# por lo tanto pese a tener estadísticas iguales, los comportamientos son distintos mejor siempre visualizar los datos.\n"
      ]
    },
    {
      "cell_type": "markdown",
      "metadata": {
        "id": "LB8ZY14lOheb"
      },
      "source": [
        "2. Utilice el comando `describe` para generar un resumen de las medidas estadísticas más relevantes para cada uno de los grupos del cuarteto de Anscombe. A partir de estos resultados, interprete las estadísticas obtenidas, destacando las características más significativas de cada grupo y cómo pueden influir en la comprensión de sus respectivas distribuciones.\n"
      ]
    },
    {
      "cell_type": "code",
      "execution_count": null,
      "metadata": {
        "id": "4eWPCfghOhec"
      },
      "outputs": [],
      "source": [
        "# FIXME\n",
        "desc_stats = data.groupby(\"dataset\").describe()\n",
        "print(desc_stats)\n",
        "\n",
        "# Respuesta:\n",
        "# Todos los grupos tienen promedios, varianzas y correlaciones similares,\n",
        "# pero estos valores no reflejan las diferencias estructurales observadas en los gráficos.\n",
        "# El resumen estadístico es insuficiente para distinguir la verdadera forma de los datos.\n"
      ]
    },
    {
      "cell_type": "markdown",
      "metadata": {
        "id": "J91u_nuQOhec"
      },
      "source": [
        "3. Ajuste un modelo de regresión lineal para cada grupo utilizando **sklearn**. Calcule las métricas de evaluación, como el error cuadrático medio (MSE) y R², y grafique los resultados de la regresión. Interprete los resultados y su impacto en la calidad del ajuste.\n",
        "\n"
      ]
    },
    {
      "cell_type": "code",
      "execution_count": null,
      "metadata": {
        "id": "F3WrXiLHOhed"
      },
      "outputs": [],
      "source": [
        "# FIXME\n",
        "from sklearn.linear_model import LinearRegression\n",
        "from sklearn.metrics import mean_squared_error, r2_score\n",
        "\n",
        "results = {}\n",
        "\n",
        "for d in data[\"dataset\"].unique():\n",
        "    subset = data[data[\"dataset\"] == d]\n",
        "    X = subset[[\"x\"]]\n",
        "    y = subset[\"y\"]\n",
        "\n",
        "    model = LinearRegression().fit(X, y)\n",
        "    y_pred = model.predict(X)\n",
        "\n",
        "    mse = mean_squared_error(y, y_pred)\n",
        "    r2 = r2_score(y, y_pred)\n",
        "\n",
        "    results[d] = {\n",
        "        \"coef\": model.coef_[0],\n",
        "        \"intercept\": model.intercept_,\n",
        "        \"MSE\": mse,\n",
        "        \"R2\": r2\n",
        "    }\n",
        "\n",
        "    # Gráfico del ajuste\n",
        "    plt.scatter(X, y, label=\"Datos\")\n",
        "    plt.plot(X, y_pred, color=\"red\", label=\"Regresión\")\n",
        "    plt.title(f\"Dataset {d} - Regresión lineal\")\n",
        "    plt.legend()\n",
        "    plt.show()\n",
        "\n",
        "print(results)\n",
        "\n",
        "# Respuesta:\n",
        "# En los cuatro grupos la regresión entrega parámetros y métricas similares (MSE y R²),\n",
        "# pero al comparar con las gráficas se observa que el ajuste es bueno solo en el dataset I.\n",
        "# En II la relación real es no lineal, en III un outlier distorsiona el modelo, y en IV\n",
        "# un solo punto induce correlación sin representar el patrón de la mayoría de datos.\n",
        "\n"
      ]
    },
    {
      "cell_type": "markdown",
      "metadata": {
        "id": "1d8HG_WPOhed"
      },
      "source": [
        "4. Es evidente que el ajuste lineal no es adecuado para algunos grupos. Existen diversas estrategias para abordar este problema, como eliminar outliers o emplear diferentes modelos de regresión. Identifique una estrategia que podría mejorar el ajuste del modelo de regresión lineal y, si lo considera necesario, implemente otros modelos alternativos para aquellos casos donde el ajuste lineal resulte inadecuado."
      ]
    },
    {
      "cell_type": "code",
      "execution_count": null,
      "metadata": {
        "id": "QwFdNRImOhed"
      },
      "outputs": [],
      "source": [
        "# FIXME\n",
        "# aplicar un modelo no lineal (polinómico) en el dataset II\n",
        "import numpy as np\n",
        "from sklearn.preprocessing import PolynomialFeatures\n",
        "\n",
        "subset = data[data[\"dataset\"] == 2]\n",
        "X = subset[[\"x\"]]\n",
        "y = subset[\"y\"]\n",
        "\n",
        "# Transformación polinómica de grado 2\n",
        "poly = PolynomialFeatures(degree=2)\n",
        "X_poly = poly.fit_transform(X)\n",
        "\n",
        "model_poly = LinearRegression().fit(X_poly, y)\n",
        "y_pred_poly = model_poly.predict(X_poly)\n",
        "\n",
        "plt.scatter(X, y, label=\"Datos\")\n",
        "plt.plot(X, y_pred_poly, color=\"green\", label=\"Regresión polinómica (grado 2)\")\n",
        "plt.title(\"Dataset II - Ajuste no lineal\")\n",
        "plt.legend()\n",
        "plt.show()\n",
        "\n",
        "# Respuesta:\n",
        "# Para datos como el conjunto II, un modelo polinómico captura mejor la curva.\n",
        "# En el conjunto III sería adecuado detectar y eliminar/eliminar outliers.\n",
        "# En el conjunto IV, la correlación artificial obliga a replantear el uso de regresión lineal,\n",
        "# considerando modelos más robustos o análisis alternativos.\n"
      ]
    }
  ],
  "metadata": {
    "kernelspec": {
      "display_name": "Python 3 (ipykernel)",
      "language": "python",
      "name": "python3"
    },
    "language_info": {
      "codemirror_mode": {
        "name": "ipython",
        "version": 3
      },
      "file_extension": ".py",
      "mimetype": "text/x-python",
      "name": "python",
      "nbconvert_exporter": "python",
      "pygments_lexer": "ipython3",
      "version": "3.10.11"
    },
    "colab": {
      "provenance": []
    }
  },
  "nbformat": 4,
  "nbformat_minor": 0
}